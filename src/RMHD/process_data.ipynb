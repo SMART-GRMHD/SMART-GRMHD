{
 "cells": [
  {
   "cell_type": "code",
   "execution_count": null,
   "metadata": {},
   "outputs": [],
   "source": [
    "import numpy as np\n",
    "import pandas as pd\n",
    "import matplotlib.pyplot as plt\n",
    "import os\n",
    "import torch\n",
    "\n",
    "for dirname, _, filenames in os.walk('.'):\n",
    "    for filename in filenames:\n",
    "        print(os.path.join(dirname, filename))\n",
    "# Import RMHD Equations\n",
    "from RMHDEquations import *"
   ]
  },
  {
   "cell_type": "code",
   "execution_count": null,
   "metadata": {},
   "outputs": [],
   "source": [
    "for i in range(10):\n",
    "    df = pd.read_csv('./data/data.000{}.tab'.format(i), sep=' ', header=None)\n",
    "    df.columns = ['x', 'y', 'rho', 'vx', 'vy', 'vz', 'Bx','By', 'Bz','p','']\n",
    "    out_df = df[['rho', 'vx', 'vy', 'vz', 'By', 'Bz', 'p']]\n",
    "    out_df.to_pickle('data_t_{x:.3f}.pkl'.format(x=(i)*0.004))"
   ]
  },
  {
   "cell_type": "code",
   "execution_count": null,
   "metadata": {},
   "outputs": [],
   "source": [
    "df = pd.read_csv('./data/data.0000.tab'.format(i), sep=' ', header=None)\n",
    "df.columns = ['x', 'y', 'rho', 'vx', 'vy', 'vz', 'Bx','By', 'Bz','p', '']"
   ]
  },
  {
   "cell_type": "code",
   "execution_count": null,
   "metadata": {},
   "outputs": [],
   "source": [
    "df.columns = ['x', 'y', 'rho', 'vx', 'vy', 'vz', 'Bx','By', 'Bz','p','']\n",
    "print(df.iloc[0][2:-1])\n",
    "print(df.iloc[-1][2:-1])"
   ]
  },
  {
   "cell_type": "code",
   "execution_count": null,
   "metadata": {},
   "outputs": [],
   "source": [
    "for var in df.columns[2:-1]:\n",
    "    plt.plot(df_init['x'], df_init[var], label='init {}'.format(var))\n",
    "    plt.plot(df_final['x'], df_final[var], label='final {}'.format(var))\n",
    "    plt.legend( )\n",
    "    plt.show()  "
   ]
  },
  {
   "cell_type": "code",
   "execution_count": null,
   "metadata": {},
   "outputs": [],
   "source": []
  }
 ],
 "metadata": {
  "kernelspec": {
   "display_name": "SMART-GRMHD",
   "language": "python",
   "name": "python3"
  },
  "language_info": {
   "codemirror_mode": {
    "name": "ipython",
    "version": 3
   },
   "file_extension": ".py",
   "mimetype": "text/x-python",
   "name": "python",
   "nbconvert_exporter": "python",
   "pygments_lexer": "ipython3",
   "version": "3.12.2"
  }
 },
 "nbformat": 4,
 "nbformat_minor": 2
}
